{
 "cells": [
  {
   "cell_type": "code",
   "execution_count": 1,
   "metadata": {},
   "outputs": [],
   "source": [
    "import os\n",
    "import pandas as pd\n",
    "import numpy as np\n",
    "import torch\n",
    "from torch.utils.data import Dataset, DataLoader\n",
    "from torchvision import transforms, models\n",
    "import torch.nn as nn\n",
    "import torch.optim as optim\n",
    "from PIL import Image"
   ]
  },
  {
   "cell_type": "markdown",
   "metadata": {},
   "source": [
    "### Data Preprocessing"
   ]
  },
  {
   "cell_type": "code",
   "execution_count": 2,
   "metadata": {},
   "outputs": [],
   "source": [
    "class EmotionDataset(Dataset):\n",
    "    def __init__(self, dataframe, transform=None):\n",
    "        self.dataframe = dataframe\n",
    "        self.transform = transform\n",
    "\n",
    "    def __len__(self):\n",
    "        return len(self.dataframe)\n",
    "\n",
    "    def __getitem__(self, idx):\n",
    "        label = self.dataframe.iloc[idx, 0]\n",
    "        pixels = self.dataframe.iloc[idx, 1]\n",
    "\n",
    "        # Image processing\n",
    "        image = np.array(pixels.split(), dtype='float32').reshape(48, 48)\n",
    "        image = Image.fromarray(image).convert('L')  # Convert grayscale to RGB\n",
    "\n",
    "        if self.transform:\n",
    "            image = self.transform(image)\n",
    "\n",
    "        return image, label"
   ]
  },
  {
   "cell_type": "code",
   "execution_count": null,
   "metadata": {},
   "outputs": [],
   "source": [
    "# Combine FER2013 and Facial Emotion data\n",
    "def load_and_combine_data(fer2013_path, additional_data_path, dataset_dir):\n",
    "    # load fer2013 dataset\n",
    "    fer_data = pd.read_csv(fer2013_path, compression='zip')\n",
    "    fer_data = fer_data[~fer_data['emotion'].isin([1, 2])]  # Remove \"disgust\" and \"fear\"\n",
    "    fer_data.reset_index(drop=True, inplace=True)\n",
    "\n",
    "    # Adjust label encoding\n",
    "    def adjust_label(x):\n",
    "        if x > 2:\n",
    "            return x - 2  # Shift labels 3-6 forward by 2\n",
    "        return x  # Keep labels 0 and 1 unchanged\n",
    "    \n",
    "    fer_data['emotion'] = fer_data['emotion'].apply(adjust_label)\n",
    "\n",
    "    # Load additional data\n",
    "    additional_data = pd.read_csv(additional_data_path)\n",
    "    images, labels = [], []\n",
    "\n",
    "    for _, row in additional_data.iterrows():\n",
    "        img_path = os.path.join(dataset_dir, row['filename'])\n",
    "        img = Image.open(img_path).convert('L').resize((48, 48))\n",
    "        images.append(' '.join(map(str, np.array(img).flatten())))\n",
    "        labels.append(row['label'])\n",
    "\n",
    "    additional_data_df = pd.DataFrame({'emotion': labels, 'pixels': images})\n",
    "\n",
    "    # Combine data\n",
    "    combined_data = pd.concat([fer_data, additional_data_df], ignore_index=True)\n",
    "    return combined_data"
   ]
  },
  {
   "cell_type": "code",
   "execution_count": 4,
   "metadata": {},
   "outputs": [],
   "source": [
    "# Load data\n",
    "zip_path = '../data_storage/fer2013.zip'\n",
    "additional_csv = '../data_storage/facial_adjusted.csv'\n",
    "dataset_dir = '../data_storage/dataset'\n",
    "\n",
    "combined_data = load_and_combine_data(zip_path, additional_csv, dataset_dir)\n"
   ]
  },
  {
   "cell_type": "code",
   "execution_count": 5,
   "metadata": {},
   "outputs": [
    {
     "data": {
      "text/html": [
       "<div>\n",
       "<style scoped>\n",
       "    .dataframe tbody tr th:only-of-type {\n",
       "        vertical-align: middle;\n",
       "    }\n",
       "\n",
       "    .dataframe tbody tr th {\n",
       "        vertical-align: top;\n",
       "    }\n",
       "\n",
       "    .dataframe thead th {\n",
       "        text-align: right;\n",
       "    }\n",
       "</style>\n",
       "<table border=\"1\" class=\"dataframe\">\n",
       "  <thead>\n",
       "    <tr style=\"text-align: right;\">\n",
       "      <th></th>\n",
       "      <th>emotion</th>\n",
       "      <th>pixels</th>\n",
       "    </tr>\n",
       "  </thead>\n",
       "  <tbody>\n",
       "    <tr>\n",
       "      <th>0</th>\n",
       "      <td>0</td>\n",
       "      <td>70 80 82 72 58 58 60 63 54 58 60 48 89 115 121...</td>\n",
       "    </tr>\n",
       "    <tr>\n",
       "      <th>1</th>\n",
       "      <td>0</td>\n",
       "      <td>151 150 147 155 148 133 111 140 170 174 182 15...</td>\n",
       "    </tr>\n",
       "    <tr>\n",
       "      <th>2</th>\n",
       "      <td>2</td>\n",
       "      <td>24 32 36 30 32 23 19 20 30 41 21 22 32 34 21 1...</td>\n",
       "    </tr>\n",
       "    <tr>\n",
       "      <th>3</th>\n",
       "      <td>4</td>\n",
       "      <td>4 0 0 0 0 0 0 0 0 0 0 0 3 15 23 28 48 50 58 84...</td>\n",
       "    </tr>\n",
       "    <tr>\n",
       "      <th>4</th>\n",
       "      <td>2</td>\n",
       "      <td>20 17 19 21 25 38 42 42 46 54 56 62 63 66 82 1...</td>\n",
       "    </tr>\n",
       "  </tbody>\n",
       "</table>\n",
       "</div>"
      ],
      "text/plain": [
       "   emotion                                             pixels\n",
       "0        0  70 80 82 72 58 58 60 63 54 58 60 48 89 115 121...\n",
       "1        0  151 150 147 155 148 133 111 140 170 174 182 15...\n",
       "2        2  24 32 36 30 32 23 19 20 30 41 21 22 32 34 21 1...\n",
       "3        4  4 0 0 0 0 0 0 0 0 0 0 0 3 15 23 28 48 50 58 84...\n",
       "4        2  20 17 19 21 25 38 42 42 46 54 56 62 63 66 82 1..."
      ]
     },
     "execution_count": 5,
     "metadata": {},
     "output_type": "execute_result"
    }
   ],
   "source": [
    "combined_data_clean = combined_data.drop(columns=['Usage'])\n",
    "combined_data_clean.head()"
   ]
  },
  {
   "cell_type": "code",
   "execution_count": 6,
   "metadata": {},
   "outputs": [
    {
     "data": {
      "text/plain": [
       "emotion\n",
       "1    12729\n",
       "4    10225\n",
       "2    10011\n",
       "0     6266\n",
       "3     5236\n",
       "Name: count, dtype: int64"
      ]
     },
     "execution_count": 6,
     "metadata": {},
     "output_type": "execute_result"
    }
   ],
   "source": [
    "combined_data_clean['emotion'].value_counts()"
   ]
  },
  {
   "cell_type": "code",
   "execution_count": 7,
   "metadata": {},
   "outputs": [
    {
     "data": {
      "text/plain": [
       "emotion\n",
       "Happy       12729\n",
       "Neutral     10225\n",
       "Sad         10011\n",
       "Angry        6266\n",
       "Surprise     5236\n",
       "Name: count, dtype: int64"
      ]
     },
     "execution_count": 7,
     "metadata": {},
     "output_type": "execute_result"
    }
   ],
   "source": [
    "label_to_emotion = {\n",
    "    0: \"Angry\",\n",
    "    1: \"Happy\",\n",
    "    2: \"Sad\",\n",
    "    3: \"Surprise\",\n",
    "    4: \"Neutral\"\n",
    "}\n",
    "combined_data_dist = combined_data_clean['emotion'].map(label_to_emotion).value_counts()\n",
    "combined_data_dist"
   ]
  },
  {
   "cell_type": "code",
   "execution_count": 8,
   "metadata": {},
   "outputs": [
    {
     "data": {
      "image/png": "[encoded data removed]",
      "text/plain": [
       "<Figure size 800x600 with 1 Axes>"
      ]
     },
     "metadata": {},
     "output_type": "display_data"
    }
   ],
   "source": [
    "import matplotlib.pyplot as plt\n",
    "\n",
    "combined_data_clean['emotion_name'] = combined_data_clean['emotion'].map(label_to_emotion)\n",
    "emotion_counts = combined_data_clean['emotion_name'].value_counts()\n",
    "# plot a bar chart \n",
    "plt.figure(figsize=(8, 6))\n",
    "emotion_counts.plot(kind='bar', color='skyblue', alpha=0.8)\n",
    "plt.title('Emotion Distribution', fontsize=16)\n",
    "plt.xlabel('Emotion', fontsize=12)\n",
    "plt.ylabel('Count', fontsize=12)\n",
    "plt.xticks(rotation=45)\n",
    "plt.grid(axis='y', linestyle='--', alpha=0.7)\n",
    "plt.show()\n",
    "\n"
   ]
  },
  {
   "cell_type": "code",
   "execution_count": 9,
   "metadata": {},
   "outputs": [],
   "source": [
    "def split_data(combined_data_clean):\n",
    "    from sklearn.model_selection import train_test_split\n",
    "\n",
    "    # Split training/validation set and test set\n",
    "    train_val_data, test_data = train_test_split(\n",
    "        combined_data_clean, \n",
    "        test_size=0.2, \n",
    "        random_state=42, \n",
    "        stratify=combined_data['emotion']\n",
    "    )\n",
    "\n",
    "    # Split training set and validation set\n",
    "    train_data, val_data = train_test_split(\n",
    "        train_val_data, \n",
    "        test_size=0.2, \n",
    "        random_state=42, \n",
    "        stratify=train_val_data['emotion']\n",
    "    )\n",
    "\n",
    "    return train_data, val_data, test_data"
   ]
  },
  {
   "cell_type": "code",
   "execution_count": 10,
   "metadata": {},
   "outputs": [],
   "source": [
    "train_data, val_data, test_data = split_data(combined_data_clean)\n",
    "\n",
    "# Define data augmentation\n",
    "transform = transforms.Compose([\n",
    "    transforms.Resize((48, 48)),\n",
    "    transforms.Grayscale(3),\n",
    "    transforms.RandomHorizontalFlip(),\n",
    "    transforms.ToTensor(),\n",
    "    transforms.Normalize(mean=[0.5], std=[0.5])\n",
    "])\n",
    "\n",
    "train_dataset = EmotionDataset(train_data, transform=transform)\n",
    "val_dataset = EmotionDataset(val_data, transform=transform)\n",
    "test_dataset = EmotionDataset(test_data, transform=transform)\n",
    "\n",
    "train_loader = DataLoader(train_dataset, batch_size=64, shuffle=True)\n",
    "val_loader = DataLoader(val_dataset, batch_size=64, shuffle=False)\n",
    "test_loader = DataLoader(test_dataset, batch_size=64, shuffle=False)\n"
   ]
  },
  {
   "cell_type": "markdown",
   "metadata": {},
   "source": [
    "### Model Building"
   ]
  },
  {
   "cell_type": "code",
   "execution_count": 11,
   "metadata": {},
   "outputs": [
    {
     "name": "stderr",
     "output_type": "stream",
     "text": [
      "d:\\Program Files\\Anaconda\\Lib\\site-packages\\torchvision\\models\\_utils.py:208: UserWarning: The parameter 'pretrained' is deprecated since 0.13 and may be removed in the future, please use 'weights' instead.\n",
      "  warnings.warn(\n",
      "d:\\Program Files\\Anaconda\\Lib\\site-packages\\torchvision\\models\\_utils.py:223: UserWarning: Arguments other than a weight enum or `None` for 'weights' are deprecated since 0.13 and may be removed in the future. The current behavior is equivalent to passing `weights=ResNet50_Weights.IMAGENET1K_V1`. You can also use `weights=ResNet50_Weights.DEFAULT` to get the most up-to-date weights.\n",
      "  warnings.warn(msg)\n"
     ]
    }
   ],
   "source": [
    "# load ResNet,  pre-train model\n",
    "model = models.resnet50(pretrained=True)\n",
    "\n",
    "# Modify the output layer to 5 classes\n",
    "num_classes = 5\n",
    "model.fc = nn.Linear(model.fc.in_features, num_classes)\n",
    "\n",
    "# Move the model to GPU or CPU\n",
    "device = torch.device('cuda' if torch.cuda.is_available() else 'cpu')\n",
    "model = model.to(device)\n",
    "\n",
    "# Define the loss function and optimizer\n",
    "criterion = nn.CrossEntropyLoss()\n",
    "optimizer = optim.Adam(model.parameters(), lr=0.001)"
   ]
  },
  {
   "cell_type": "markdown",
   "metadata": {},
   "source": [
    "### Training and Validating"
   ]
  },
  {
   "cell_type": "code",
   "execution_count": 12,
   "metadata": {},
   "outputs": [],
   "source": [
    "def train_model(model, train_loader, val_loader, criterion, optimizer, num_epochs=50):\n",
    "    for epoch in range(num_epochs):\n",
    "        # Training phase\n",
    "        model.train()\n",
    "        running_loss = 0.0\n",
    "        for images, labels in train_loader:\n",
    "            images, labels = images.to(device), labels.to(device)\n",
    "\n",
    "            # Forward pass\n",
    "            outputs = model(images)\n",
    "            loss = criterion(outputs, labels)\n",
    "\n",
    "            # Backward pass and optimization\n",
    "            optimizer.zero_grad()\n",
    "            loss.backward()\n",
    "            optimizer.step()\n",
    "\n",
    "            running_loss += loss.item()\n",
    "\n",
    "        # Validation phase\n",
    "        model.eval()\n",
    "        val_loss = 0.0\n",
    "        correct = 0\n",
    "        total = 0\n",
    "        with torch.no_grad():\n",
    "            for images, labels in val_loader:\n",
    "                images, labels = images.to(device), labels.to(device)\n",
    "                outputs = model(images)\n",
    "                val_loss += criterion(outputs, labels).item()\n",
    "                _, predicted = torch.max(outputs, 1)\n",
    "                total += labels.size(0)\n",
    "                correct += (predicted == labels).sum().item()\n",
    "\n",
    "        val_accuracy = 100 * correct / total\n",
    "        print(f\"Epoch [{epoch+1}/{num_epochs}], Loss: {running_loss/len(train_loader):.4f}, \"\n",
    "              f\"Val Loss: {val_loss/len(val_loader):.4f}, Val Accuracy: {val_accuracy:.2f}%\")"
   ]
  },
  {
   "cell_type": "code",
   "execution_count": 13,
   "metadata": {},
   "outputs": [
    {
     "name": "stdout",
     "output_type": "stream",
     "text": [
      "Epoch [1/50], Loss: 1.1578, Val Loss: 1.0423, Val Accuracy: 57.79%\n",
      "Epoch [2/50], Loss: 0.9213, Val Loss: 0.9004, Val Accuracy: 64.26%\n",
      "Epoch [3/50], Loss: 0.8141, Val Loss: 0.8158, Val Accuracy: 67.56%\n",
      "Epoch [4/50], Loss: 0.7702, Val Loss: 0.7866, Val Accuracy: 69.56%\n",
      "Epoch [5/50], Loss: 0.7443, Val Loss: 0.8088, Val Accuracy: 68.60%\n",
      "Epoch [6/50], Loss: 0.7140, Val Loss: 0.7768, Val Accuracy: 69.44%\n",
      "Epoch [7/50], Loss: 0.6859, Val Loss: 0.7893, Val Accuracy: 70.86%\n",
      "Epoch [8/50], Loss: 0.6420, Val Loss: 0.7648, Val Accuracy: 70.34%\n",
      "Epoch [9/50], Loss: 0.6432, Val Loss: 0.7938, Val Accuracy: 70.11%\n",
      "Epoch [10/50], Loss: 0.5950, Val Loss: 0.7478, Val Accuracy: 72.07%\n",
      "Epoch [11/50], Loss: 0.5982, Val Loss: 1.0068, Val Accuracy: 67.88%\n",
      "Epoch [12/50], Loss: 0.6202, Val Loss: 0.7749, Val Accuracy: 70.36%\n",
      "Epoch [13/50], Loss: 0.5166, Val Loss: 0.7997, Val Accuracy: 70.77%\n",
      "Epoch [14/50], Loss: 0.4609, Val Loss: 0.8030, Val Accuracy: 71.52%\n",
      "Epoch [15/50], Loss: 0.4185, Val Loss: 0.8159, Val Accuracy: 71.60%\n",
      "Epoch [16/50], Loss: 0.3926, Val Loss: 0.8799, Val Accuracy: 71.12%\n",
      "Epoch [17/50], Loss: 0.3922, Val Loss: 0.9573, Val Accuracy: 71.51%\n",
      "Epoch [18/50], Loss: 0.3389, Val Loss: 0.9749, Val Accuracy: 68.85%\n",
      "Epoch [19/50], Loss: 0.3045, Val Loss: 0.9604, Val Accuracy: 70.02%\n",
      "Epoch [20/50], Loss: 0.2719, Val Loss: 0.9749, Val Accuracy: 71.03%\n",
      "Epoch [21/50], Loss: 0.2572, Val Loss: 1.0472, Val Accuracy: 70.05%\n",
      "Epoch [22/50], Loss: 0.2371, Val Loss: 1.0357, Val Accuracy: 71.30%\n",
      "Epoch [23/50], Loss: 0.2198, Val Loss: 1.0688, Val Accuracy: 70.39%\n",
      "Epoch [24/50], Loss: 0.1996, Val Loss: 1.1438, Val Accuracy: 70.53%\n",
      "Epoch [25/50], Loss: 0.1863, Val Loss: 1.1752, Val Accuracy: 68.80%\n",
      "Epoch [26/50], Loss: 0.1903, Val Loss: 1.1141, Val Accuracy: 69.99%\n",
      "Epoch [27/50], Loss: 0.1569, Val Loss: 1.2730, Val Accuracy: 70.46%\n",
      "Epoch [28/50], Loss: 0.1598, Val Loss: 1.2073, Val Accuracy: 70.72%\n",
      "Epoch [29/50], Loss: 0.1395, Val Loss: 1.2982, Val Accuracy: 70.47%\n",
      "Epoch [30/50], Loss: 0.1273, Val Loss: 1.3422, Val Accuracy: 71.05%\n",
      "Epoch [31/50], Loss: 0.1259, Val Loss: 1.3425, Val Accuracy: 70.05%\n",
      "Epoch [32/50], Loss: 0.1258, Val Loss: 1.3840, Val Accuracy: 69.74%\n",
      "Epoch [33/50], Loss: 0.1054, Val Loss: 1.5024, Val Accuracy: 71.33%\n",
      "Epoch [34/50], Loss: 0.1077, Val Loss: 1.4466, Val Accuracy: 70.57%\n",
      "Epoch [35/50], Loss: 0.1131, Val Loss: 1.3696, Val Accuracy: 71.58%\n",
      "Epoch [36/50], Loss: 0.1165, Val Loss: 1.2712, Val Accuracy: 71.23%\n",
      "Epoch [37/50], Loss: 0.0894, Val Loss: 1.4511, Val Accuracy: 69.96%\n",
      "Epoch [38/50], Loss: 0.1023, Val Loss: 1.4519, Val Accuracy: 69.25%\n",
      "Epoch [39/50], Loss: 0.3080, Val Loss: 1.0556, Val Accuracy: 69.30%\n",
      "Epoch [40/50], Loss: 0.2023, Val Loss: 1.2510, Val Accuracy: 69.75%\n",
      "Epoch [41/50], Loss: 0.0830, Val Loss: 1.4843, Val Accuracy: 70.99%\n",
      "Epoch [42/50], Loss: 0.0670, Val Loss: 1.4227, Val Accuracy: 70.53%\n",
      "Epoch [43/50], Loss: 0.0689, Val Loss: 1.6400, Val Accuracy: 69.94%\n",
      "Epoch [44/50], Loss: 0.0701, Val Loss: 1.5667, Val Accuracy: 71.03%\n",
      "Epoch [45/50], Loss: 0.0657, Val Loss: 1.5466, Val Accuracy: 70.77%\n",
      "Epoch [46/50], Loss: 0.0767, Val Loss: 1.5248, Val Accuracy: 71.31%\n",
      "Epoch [47/50], Loss: 0.0729, Val Loss: 1.5416, Val Accuracy: 71.09%\n",
      "Epoch [48/50], Loss: 0.0746, Val Loss: 1.5250, Val Accuracy: 70.44%\n",
      "Epoch [49/50], Loss: 0.0787, Val Loss: 1.5380, Val Accuracy: 70.43%\n",
      "Epoch [50/50], Loss: 0.0831, Val Loss: 1.4800, Val Accuracy: 70.79%\n",
      "Model saved successfully!\n"
     ]
    }
   ],
   "source": [
    "train_model(model, train_loader, val_loader, criterion, optimizer, num_epochs=50)\n",
    "torch.save(model.state_dict(), 'resnet18_emotion_model_30_.pth')\n",
    "print(\"Model saved successfully!\")"
   ]
  },
  {
   "cell_type": "markdown",
   "metadata": {},
   "source": [
    "### Model Testing"
   ]
  },
  {
   "cell_type": "code",
   "execution_count": 15,
   "metadata": {},
   "outputs": [
    {
     "name": "stdout",
     "output_type": "stream",
     "text": [
      "Test Accuracy: 69.69%\n"
     ]
    }
   ],
   "source": [
    "def test_model(model, test_loader):\n",
    "    model.eval()\n",
    "    correct = 0\n",
    "    total = 0\n",
    "    with torch.no_grad():\n",
    "        for images, labels in test_loader:\n",
    "            images, labels = images.to(device), labels.to(device)\n",
    "            outputs = model(images)\n",
    "            _, predicted = torch.max(outputs, 1)\n",
    "            total += labels.size(0)\n",
    "            correct += (predicted == labels).sum().item()\n",
    "\n",
    "    test_accuracy = 100 * correct / total\n",
    "    print(f\"Test Accuracy: {test_accuracy:.2f}%\")\n",
    "    \n",
    "test_model(model, test_loader)"
   ]
  }
 ],
 "metadata": {
  "kernelspec": {
   "display_name": "base",
   "language": "python",
   "name": "python3"
  },
  "language_info": {
   "codemirror_mode": {
    "name": "ipython",
    "version": 3
   },
   "file_extension": ".py",
   "mimetype": "text/x-python",
   "name": "python",
   "nbconvert_exporter": "python",
   "pygments_lexer": "ipython3",
   "version": "3.12.4"
  }
 },
 "nbformat": 4,
 "nbformat_minor": 2
}
